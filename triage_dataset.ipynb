{
 "cells": [
  {
   "cell_type": "code",
   "execution_count": 1,
   "metadata": {},
   "outputs": [],
   "source": [
    "# !pip3 install openai"
   ]
  },
  {
   "cell_type": "code",
   "execution_count": 2,
   "metadata": {},
   "outputs": [],
   "source": [
    "# Importing necessary libraries\n",
    "import os\n",
    "import openai\n",
    "from openai import OpenAI\n",
    "import json\n",
    "import pandas as pd"
   ]
  },
  {
   "cell_type": "code",
   "execution_count": 3,
   "metadata": {},
   "outputs": [],
   "source": [
    "client = OpenAI()\n",
    "OpenAI.api_key = os.environ.get('OPENAI_API_KEY')"
   ]
  },
  {
   "cell_type": "code",
   "execution_count": 4,
   "metadata": {},
   "outputs": [],
   "source": [
    "def analyze_conversation(conversation):\n",
    "    medical_specialties = \"\"\"\n",
    "        allergies, skin, emergencies, general, internal, genetics, brain, \n",
    "        women, eyes, diseases, children, operations, urinary, heart, hormones, \n",
    "        digestion, infections, kidneys, lungs, sports, operations, bones, vessels, throat\n",
    "    \"\"\"\n",
    "\n",
    "    conversation_context = \"\"\"\n",
    "        diagnostic, treatment, follow-up, preventive, mental, education, emergency\n",
    "    \"\"\"\n",
    "\n",
    "    system_message = f\"\"\"Determine if the following medical case is by picking one from the list:urgent, non-urgent.\n",
    "                        identify the relevant medical specialty from this list: {medical_specialties}\n",
    "                        In addition, please also define the context of the conversation from on of the following list: {conversation_context}\n",
    "                        \n",
    "                        Please return your response in json format as the following. Make sure all values and keys are in lower case.\n",
    "                        {{\n",
    "                            \"triage\": \"non-urgent\",\n",
    "                            \"speciality\": \"general\",\n",
    "                            \"context\": \"diagnostic\"\n",
    "                        }}\n",
    "                        \"\"\"\n",
    "\n",
    "    conversation_example = \"\"\"\n",
    "    patient: what will happen after the incubation period for covid 19?\n",
    "    doctor: in brief: symptoms if you are infected, symptoms will emerge: tiredness, dry cough, fever worsening over 5-14 days. \n",
    "    you will also become more infective so self-isolation and good hygiene are vital.\n",
    "    \"\"\"\n",
    "\n",
    "    expected_response = \"\"\"\n",
    "    {\n",
    "        \"triage\": \"non-urgent\",\n",
    "        \"speciality\": \"general\",\n",
    "        \"context\": \"diagnostic\"\n",
    "    }\n",
    "    \"\"\"\n",
    "\n",
    "    try:\n",
    "        completion = client.chat.completions.create(\n",
    "            model=\"gpt-3.5-turbo\",\n",
    "            messages=[\n",
    "                {\"role\": \"system\", \"content\": system_message},\n",
    "                {\"role\": \"user\", \"content\": conversation_example},\n",
    "                {\"role\": \"system\", \"content\": expected_response},\n",
    "                {\"role\": \"user\", \"content\": conversation}\n",
    "            ]\n",
    "        )\n",
    "        raw_response = completion.choices[0].message\n",
    "        result_dict = json.loads(raw_response.content)\n",
    "\n",
    "        return result_dict\n",
    "    except Exception as e:\n",
    "        print(f\"An error occurred: {e}\")\n",
    "        return {\n",
    "            \"triage\": \"error\",\n",
    "            \"speciality\": \"error\",\n",
    "            \"context\": \"error\"\n",
    "        }\n",
    "\n",
    "    print(completion.choices[0].message)"
   ]
  },
  {
   "cell_type": "code",
   "execution_count": 5,
   "metadata": {},
   "outputs": [],
   "source": [
    "# conversation1 = \"\"\"\n",
    "#     patient: i have a tight and painful chest with a dry cough, no fever and no headaches. could it possibly be coronavirus?\n",
    "#     doctor: possible. top symptoms include fever, dry cough and sob. an obvious possibility. \n",
    "#     if so, your best step is to self-quarntine. remember at your age low risk of complication and \n",
    "#     typically will pass without issue. if worsening sob be seen. call your provider or check with local health department. \n",
    "#     these are healthtap guidelines: https://www.healthtap.com/blog/covid-19-care-guidelines/self-quarantine-guide.\n",
    "# \"\"\"\n",
    "\n",
    "# conversation2 = \"\"\"\n",
    "#     patient: what will happen after the incubation period for covid 19?\n",
    "#     doctor: in brief: symptoms if you are infected, symptoms will emerge: tiredness, dry cough, fever worsening over 5-14 days. \n",
    "#     you will also become more infective so self-isolation and good hygiene are vital.\n",
    "#     only be concerned about covid-19 if: - you have been in contact with someone with a conformed diagnosis of covid-19 - you have visited a high risk area - symptoms worsen and include persistent fever and dry cough would you like to video or text chat with me?\n",
    "# \"\"\"\n",
    "\n",
    "# conversation3 = \"Hello how are you. I am so happy.\"\n",
    "\n",
    "# response = analyze_conversation(conversation3)\n",
    "# response"
   ]
  },
  {
   "cell_type": "code",
   "execution_count": 6,
   "metadata": {},
   "outputs": [
    {
     "data": {
      "text/plain": [
       "{'triage': 'urgent', 'speciality': 'heart', 'context': 'emergency'}"
      ]
     },
     "execution_count": 6,
     "metadata": {},
     "output_type": "execute_result"
    }
   ],
   "source": [
    "# Example of a conversation to analyze\n",
    "# Uncomment below lines to test the function\n",
    "conversation_example = \"\"\"\n",
    "Patient: I've been experiencing severe chest pain for the last two hours.\n",
    "Doctor: Do you have any other symptoms?\n",
    "Patient: Yes, I'm feeling dizzy and my left arm feels numb.\n",
    "\"\"\"\n",
    "\n",
    "result_dict = analyze_conversation(conversation_example)\n",
    "result_dict"
   ]
  },
  {
   "cell_type": "code",
   "execution_count": 7,
   "metadata": {},
   "outputs": [],
   "source": [
    "# df = pd.read_csv('datasets/final_dataset.csv')\n",
    "# df.head()"
   ]
  },
  {
   "cell_type": "code",
   "execution_count": 8,
   "metadata": {},
   "outputs": [],
   "source": [
    "# df.isna().sum()"
   ]
  },
  {
   "cell_type": "code",
   "execution_count": 9,
   "metadata": {},
   "outputs": [],
   "source": [
    "# df['triage'] = None\n",
    "# df['speciality'] = None\n",
    "# df['context'] = None\n",
    "# df['need_analyze'] = True"
   ]
  },
  {
   "cell_type": "code",
   "execution_count": 10,
   "metadata": {},
   "outputs": [],
   "source": [
    "# Initialize triage datase.t\n",
    "# df.to_csv(\"datasets/triage_dataset_raw.csv\", index=False)"
   ]
  },
  {
   "cell_type": "code",
   "execution_count": 11,
   "metadata": {},
   "outputs": [
    {
     "name": "stderr",
     "output_type": "stream",
     "text": [
      "/var/folders/dq/43_5rtyn5lz1p4vkq89ykdw40000gn/T/ipykernel_7127/3325696505.py:1: DtypeWarning: Columns (3,4,5) have mixed types. Specify dtype option on import or set low_memory=False.\n",
      "  df = pd.read_csv('datasets/triage_dataset.csv')\n"
     ]
    },
    {
     "data": {
      "text/html": [
       "<div>\n",
       "<style scoped>\n",
       "    .dataframe tbody tr th:only-of-type {\n",
       "        vertical-align: middle;\n",
       "    }\n",
       "\n",
       "    .dataframe tbody tr th {\n",
       "        vertical-align: top;\n",
       "    }\n",
       "\n",
       "    .dataframe thead th {\n",
       "        text-align: right;\n",
       "    }\n",
       "</style>\n",
       "<table border=\"1\" class=\"dataframe\">\n",
       "  <thead>\n",
       "    <tr style=\"text-align: right;\">\n",
       "      <th></th>\n",
       "      <th>Description</th>\n",
       "      <th>Patient</th>\n",
       "      <th>Doctor</th>\n",
       "      <th>triage</th>\n",
       "      <th>speciality</th>\n",
       "      <th>context</th>\n",
       "      <th>need_analyze</th>\n",
       "    </tr>\n",
       "  </thead>\n",
       "  <tbody>\n",
       "    <tr>\n",
       "      <th>0</th>\n",
       "      <td>If you are a doctor, please answer the medical...</td>\n",
       "      <td>I am 35 years old unmarried , i was diagonized...</td>\n",
       "      <td>you should get a few other labs checked if thi...</td>\n",
       "      <td>non-urgent</td>\n",
       "      <td>infections</td>\n",
       "      <td>diagnostic</td>\n",
       "      <td>False</td>\n",
       "    </tr>\n",
       "    <tr>\n",
       "      <th>1</th>\n",
       "      <td>What could be the lump in abdominal section?</td>\n",
       "      <td>I have been having abdominal pain and burning ...</td>\n",
       "      <td>Hi...it can be gastroenteritis... take a cours...</td>\n",
       "      <td>non-urgent</td>\n",
       "      <td>digestion</td>\n",
       "      <td>diagnostic</td>\n",
       "      <td>False</td>\n",
       "    </tr>\n",
       "    <tr>\n",
       "      <th>2</th>\n",
       "      <td>what are the side effects of thyroxine 100 mg ...</td>\n",
       "      <td>sir, Day before yesterday i had an oil fried i...</td>\n",
       "      <td>Hi,  You suffer from some colon infection due ...</td>\n",
       "      <td>urgent</td>\n",
       "      <td>general</td>\n",
       "      <td>diagnostic</td>\n",
       "      <td>False</td>\n",
       "    </tr>\n",
       "    <tr>\n",
       "      <th>3</th>\n",
       "      <td>If you are a doctor, please answer the medical...</td>\n",
       "      <td>friend has a lump where their coccyx is, has b...</td>\n",
       "      <td>hello and welcome to chatbot, a painful lump o...</td>\n",
       "      <td>urgent</td>\n",
       "      <td>orthopedics</td>\n",
       "      <td>diagnostic</td>\n",
       "      <td>False</td>\n",
       "    </tr>\n",
       "    <tr>\n",
       "      <th>4</th>\n",
       "      <td>Answer this question truthfully</td>\n",
       "      <td>Which demographic should raise suspicion of a ...</td>\n",
       "      <td>The demographic that should alert you to possi...</td>\n",
       "      <td>non-urgent</td>\n",
       "      <td>prevention</td>\n",
       "      <td>educational</td>\n",
       "      <td>False</td>\n",
       "    </tr>\n",
       "  </tbody>\n",
       "</table>\n",
       "</div>"
      ],
      "text/plain": [
       "                                         Description  \\\n",
       "0  If you are a doctor, please answer the medical...   \n",
       "1       What could be the lump in abdominal section?   \n",
       "2  what are the side effects of thyroxine 100 mg ...   \n",
       "3  If you are a doctor, please answer the medical...   \n",
       "4                    Answer this question truthfully   \n",
       "\n",
       "                                             Patient  \\\n",
       "0  I am 35 years old unmarried , i was diagonized...   \n",
       "1  I have been having abdominal pain and burning ...   \n",
       "2  sir, Day before yesterday i had an oil fried i...   \n",
       "3  friend has a lump where their coccyx is, has b...   \n",
       "4  Which demographic should raise suspicion of a ...   \n",
       "\n",
       "                                              Doctor      triage   speciality  \\\n",
       "0  you should get a few other labs checked if thi...  non-urgent   infections   \n",
       "1  Hi...it can be gastroenteritis... take a cours...  non-urgent    digestion   \n",
       "2  Hi,  You suffer from some colon infection due ...      urgent      general   \n",
       "3  hello and welcome to chatbot, a painful lump o...      urgent  orthopedics   \n",
       "4  The demographic that should alert you to possi...  non-urgent   prevention   \n",
       "\n",
       "       context  need_analyze  \n",
       "0   diagnostic         False  \n",
       "1   diagnostic         False  \n",
       "2   diagnostic         False  \n",
       "3   diagnostic         False  \n",
       "4  educational         False  "
      ]
     },
     "execution_count": 11,
     "metadata": {},
     "output_type": "execute_result"
    }
   ],
   "source": [
    "df = pd.read_csv('datasets/triage_dataset_raw.csv')\n",
    "df.head()"
   ]
  },
  {
   "cell_type": "code",
   "execution_count": 12,
   "metadata": {},
   "outputs": [
    {
     "data": {
      "text/plain": [
       "(349320, 7)"
      ]
     },
     "execution_count": 12,
     "metadata": {},
     "output_type": "execute_result"
    }
   ],
   "source": [
    "df.shape"
   ]
  },
  {
   "cell_type": "code",
   "execution_count": 13,
   "metadata": {},
   "outputs": [
    {
     "name": "stdout",
     "output_type": "stream",
     "text": [
      "Total chunks:  3494\n"
     ]
    }
   ],
   "source": [
    "# Define the chunk size (number of rows per loop)\n",
    "chunk_size = 100\n",
    "\n",
    "# Calculate the total number of chunks\n",
    "total_chunks = len(df) // chunk_size + 1\n",
    "print(\"Total chunks: \", total_chunks)"
   ]
  },
  {
   "cell_type": "code",
   "execution_count": 14,
   "metadata": {},
   "outputs": [],
   "source": [
    "def extract_info(row):\n",
    "    \n",
    "    if row['need_analyze']:\n",
    "        conversation = \"Patient: \" + row['Patient'] + \"\\nDoctor: \" + row['Doctor']\n",
    "        result = analyze_conversation(conversation)\n",
    "        \n",
    "        row['triage'] = result['triage']\n",
    "        row['speciality'] = result\n",
    "        row['context'] = result['context']\n",
    "        row['need_analyze'] = False\n",
    "\n",
    "    return row"
   ]
  },
  {
   "cell_type": "code",
   "execution_count": null,
   "metadata": {},
   "outputs": [],
   "source": [
    "# Loop through the DataFrame in chunks\n",
    "for i in range(total_chunks):\n",
    "    start_idx = i * chunk_size\n",
    "    end_idx = (i + 1) * chunk_size\n",
    "    current_chunk = df.iloc[start_idx:end_idx]\n",
    "\n",
    "    print(f\"Processing chunk {i + 1}/{total_chunks}: \")\n",
    "\n",
    "    if not current_chunk.iloc[0]['need_analyze']:\n",
    "        print('Skip.')\n",
    "        continue;\n",
    "\n",
    "    current_chunk = current_chunk.apply(lambda row: extract_info(row), axis=1)\n",
    "    df.iloc[start_idx:end_idx] = current_chunk\n",
    "    \n",
    "    df.to_csv(\"datasets/triage_dataset_raw.csv\", index=False)\n",
    "    print(\"Complete.\")\n",
    "\n",
    "    # Process the current chunk (e.g., perform computations, transformations, etc.)\n",
    "    # Replace the following print statement with your desired processing logic"
   ]
  },
  {
   "cell_type": "code",
   "execution_count": 61,
   "metadata": {},
   "outputs": [
    {
     "data": {
      "text/html": [
       "<div>\n",
       "<style scoped>\n",
       "    .dataframe tbody tr th:only-of-type {\n",
       "        vertical-align: middle;\n",
       "    }\n",
       "\n",
       "    .dataframe tbody tr th {\n",
       "        vertical-align: top;\n",
       "    }\n",
       "\n",
       "    .dataframe thead th {\n",
       "        text-align: right;\n",
       "    }\n",
       "</style>\n",
       "<table border=\"1\" class=\"dataframe\">\n",
       "  <thead>\n",
       "    <tr style=\"text-align: right;\">\n",
       "      <th></th>\n",
       "      <th>Description</th>\n",
       "      <th>Patient</th>\n",
       "      <th>Doctor</th>\n",
       "      <th>triage</th>\n",
       "      <th>speciality</th>\n",
       "      <th>context</th>\n",
       "      <th>need_analyze</th>\n",
       "    </tr>\n",
       "  </thead>\n",
       "  <tbody>\n",
       "    <tr>\n",
       "      <th>600</th>\n",
       "      <td>If you are a doctor, please answer the medical...</td>\n",
       "      <td>I took my husband to the ER today with an abce...</td>\n",
       "      <td>hi and thank you so much for this query. i am ...</td>\n",
       "      <td>NaN</td>\n",
       "      <td>NaN</td>\n",
       "      <td>NaN</td>\n",
       "      <td>True</td>\n",
       "    </tr>\n",
       "    <tr>\n",
       "      <th>601</th>\n",
       "      <td>If you are a doctor, please answer the medical...</td>\n",
       "      <td>Hi I am suffering pain in Testicle and also ge...</td>\n",
       "      <td>hit hank you for asking chatdoctori have gone ...</td>\n",
       "      <td>NaN</td>\n",
       "      <td>NaN</td>\n",
       "      <td>NaN</td>\n",
       "      <td>True</td>\n",
       "    </tr>\n",
       "    <tr>\n",
       "      <th>602</th>\n",
       "      <td>What causes painful lump near ear?</td>\n",
       "      <td>I had an ultrasound which showed tumors in my ...</td>\n",
       "      <td>HI.There are no known diseases that cause the ...</td>\n",
       "      <td>NaN</td>\n",
       "      <td>NaN</td>\n",
       "      <td>NaN</td>\n",
       "      <td>True</td>\n",
       "    </tr>\n",
       "    <tr>\n",
       "      <th>603</th>\n",
       "      <td>What is the best medication for thin and less ...</td>\n",
       "      <td>My hair have become very thin, and less. I con...</td>\n",
       "      <td>Hello. Thank you for writing to us at healthca...</td>\n",
       "      <td>NaN</td>\n",
       "      <td>NaN</td>\n",
       "      <td>NaN</td>\n",
       "      <td>True</td>\n",
       "    </tr>\n",
       "    <tr>\n",
       "      <th>604</th>\n",
       "      <td>Please summerize the given abstract to a title</td>\n",
       "      <td>With the relative ubiquity of smartphones, con...</td>\n",
       "      <td>Adoption of COVID-19 Contact Tracing Apps: A B...</td>\n",
       "      <td>NaN</td>\n",
       "      <td>NaN</td>\n",
       "      <td>NaN</td>\n",
       "      <td>True</td>\n",
       "    </tr>\n",
       "  </tbody>\n",
       "</table>\n",
       "</div>"
      ],
      "text/plain": [
       "                                           Description  \\\n",
       "600  If you are a doctor, please answer the medical...   \n",
       "601  If you are a doctor, please answer the medical...   \n",
       "602                 What causes painful lump near ear?   \n",
       "603  What is the best medication for thin and less ...   \n",
       "604     Please summerize the given abstract to a title   \n",
       "\n",
       "                                               Patient  \\\n",
       "600  I took my husband to the ER today with an abce...   \n",
       "601  Hi I am suffering pain in Testicle and also ge...   \n",
       "602  I had an ultrasound which showed tumors in my ...   \n",
       "603  My hair have become very thin, and less. I con...   \n",
       "604  With the relative ubiquity of smartphones, con...   \n",
       "\n",
       "                                                Doctor triage speciality  \\\n",
       "600  hi and thank you so much for this query. i am ...    NaN        NaN   \n",
       "601  hit hank you for asking chatdoctori have gone ...    NaN        NaN   \n",
       "602  HI.There are no known diseases that cause the ...    NaN        NaN   \n",
       "603  Hello. Thank you for writing to us at healthca...    NaN        NaN   \n",
       "604  Adoption of COVID-19 Contact Tracing Apps: A B...    NaN        NaN   \n",
       "\n",
       "    context  need_analyze  \n",
       "600     NaN          True  \n",
       "601     NaN          True  \n",
       "602     NaN          True  \n",
       "603     NaN          True  \n",
       "604     NaN          True  "
      ]
     },
     "execution_count": 61,
     "metadata": {},
     "output_type": "execute_result"
    }
   ],
   "source": [
    "current_chunk.head()"
   ]
  },
  {
   "cell_type": "code",
   "execution_count": 129,
   "metadata": {},
   "outputs": [],
   "source": [
    "analyzed = df['need_analyze'] == False\n",
    "triage_data = df[analyzed].rename(columns = {\"Patient\": \"question\"})"
   ]
  },
  {
   "cell_type": "code",
   "execution_count": 130,
   "metadata": {},
   "outputs": [],
   "source": [
    "triage_data['triage'] = triage_data['triage'].str.strip().str.lower()"
   ]
  },
  {
   "cell_type": "code",
   "execution_count": 131,
   "metadata": {},
   "outputs": [],
   "source": [
    "def make_triage_uniform(row):\n",
    "    if row['triage'] == 'urgency' or row['triage'] == 'emergency':\n",
    "        row['triage'] = 'urgent'\n",
    "    elif row['triage'] == 'preventive':\n",
    "        row['triage'] = 'non-urgent'\n",
    "    return row"
   ]
  },
  {
   "cell_type": "code",
   "execution_count": 132,
   "metadata": {},
   "outputs": [],
   "source": [
    "triage_data = triage_data.apply(lambda row: make_triage_uniform(row), axis=1)"
   ]
  },
  {
   "cell_type": "code",
   "execution_count": 133,
   "metadata": {},
   "outputs": [],
   "source": [
    "error = triage_data['triage'] == 'error'\n",
    "triage_data = triage_data.drop(index=triage_data[error].index)"
   ]
  },
  {
   "cell_type": "code",
   "execution_count": 134,
   "metadata": {},
   "outputs": [
    {
     "data": {
      "text/plain": [
       "Series([], Name: question, dtype: object)"
      ]
     },
     "execution_count": 134,
     "metadata": {},
     "output_type": "execute_result"
    }
   ],
   "source": [
    "filter = triage_data['triage'] == 'preventive'\n",
    "triage_data[filter]['question']"
   ]
  },
  {
   "cell_type": "code",
   "execution_count": 135,
   "metadata": {},
   "outputs": [
    {
     "data": {
      "text/plain": [
       "array(['non-urgent', 'urgent'], dtype=object)"
      ]
     },
     "execution_count": 135,
     "metadata": {},
     "output_type": "execute_result"
    }
   ],
   "source": [
    "triage_data['triage'].unique()"
   ]
  },
  {
   "cell_type": "code",
   "execution_count": 136,
   "metadata": {},
   "outputs": [],
   "source": [
    "triage_data.drop(columns=['Description', 'Doctor', 'speciality', 'context', 'need_analyze'], inplace=True)"
   ]
  },
  {
   "cell_type": "code",
   "execution_count": 139,
   "metadata": {},
   "outputs": [
    {
     "data": {
      "text/plain": [
       "(42513, 2)"
      ]
     },
     "execution_count": 139,
     "metadata": {},
     "output_type": "execute_result"
    }
   ],
   "source": [
    "triage_data.shape"
   ]
  },
  {
   "cell_type": "code",
   "execution_count": 137,
   "metadata": {},
   "outputs": [
    {
     "data": {
      "text/html": [
       "<div>\n",
       "<style scoped>\n",
       "    .dataframe tbody tr th:only-of-type {\n",
       "        vertical-align: middle;\n",
       "    }\n",
       "\n",
       "    .dataframe tbody tr th {\n",
       "        vertical-align: top;\n",
       "    }\n",
       "\n",
       "    .dataframe thead th {\n",
       "        text-align: right;\n",
       "    }\n",
       "</style>\n",
       "<table border=\"1\" class=\"dataframe\">\n",
       "  <thead>\n",
       "    <tr style=\"text-align: right;\">\n",
       "      <th></th>\n",
       "      <th>question</th>\n",
       "      <th>triage</th>\n",
       "    </tr>\n",
       "  </thead>\n",
       "  <tbody>\n",
       "    <tr>\n",
       "      <th>0</th>\n",
       "      <td>I am 35 years old unmarried , i was diagonized...</td>\n",
       "      <td>non-urgent</td>\n",
       "    </tr>\n",
       "    <tr>\n",
       "      <th>1</th>\n",
       "      <td>I have been having abdominal pain and burning ...</td>\n",
       "      <td>non-urgent</td>\n",
       "    </tr>\n",
       "    <tr>\n",
       "      <th>2</th>\n",
       "      <td>sir, Day before yesterday i had an oil fried i...</td>\n",
       "      <td>urgent</td>\n",
       "    </tr>\n",
       "    <tr>\n",
       "      <th>3</th>\n",
       "      <td>friend has a lump where their coccyx is, has b...</td>\n",
       "      <td>urgent</td>\n",
       "    </tr>\n",
       "    <tr>\n",
       "      <th>4</th>\n",
       "      <td>Which demographic should raise suspicion of a ...</td>\n",
       "      <td>non-urgent</td>\n",
       "    </tr>\n",
       "  </tbody>\n",
       "</table>\n",
       "</div>"
      ],
      "text/plain": [
       "                                            question      triage\n",
       "0  I am 35 years old unmarried , i was diagonized...  non-urgent\n",
       "1  I have been having abdominal pain and burning ...  non-urgent\n",
       "2  sir, Day before yesterday i had an oil fried i...      urgent\n",
       "3  friend has a lump where their coccyx is, has b...      urgent\n",
       "4  Which demographic should raise suspicion of a ...  non-urgent"
      ]
     },
     "execution_count": 137,
     "metadata": {},
     "output_type": "execute_result"
    }
   ],
   "source": [
    "triage_data.head()"
   ]
  },
  {
   "cell_type": "code",
   "execution_count": 138,
   "metadata": {},
   "outputs": [],
   "source": [
    "triage_data.to_csv(\"datasets/triage_dataset.csv\", index=False)"
   ]
  },
  {
   "cell_type": "code",
   "execution_count": null,
   "metadata": {},
   "outputs": [],
   "source": []
  }
 ],
 "metadata": {
  "kernelspec": {
   "display_name": "NLP_Datacamp",
   "language": "python",
   "name": "python3"
  },
  "language_info": {
   "codemirror_mode": {
    "name": "ipython",
    "version": 3
   },
   "file_extension": ".py",
   "mimetype": "text/x-python",
   "name": "python",
   "nbconvert_exporter": "python",
   "pygments_lexer": "ipython3",
   "version": "3.9.18"
  }
 },
 "nbformat": 4,
 "nbformat_minor": 2
}
